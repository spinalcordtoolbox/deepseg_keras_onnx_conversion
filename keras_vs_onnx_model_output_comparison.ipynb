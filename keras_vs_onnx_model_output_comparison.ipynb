{
 "cells": [
  {
   "cell_type": "markdown",
   "id": "a1cc26a7",
   "metadata": {},
   "source": [
    "# Keras vs. ONNX model output comparison\n",
    "\n",
    "This notebook needs to be run separately on two different installations of SCT:\n",
    "\n",
    "1. Installed from the `master` branch (with Tensorflow/Keras installed)\n",
    "2. Installed from the `jn/3735-replace-tensorflow-with-onnxruntime` branch (with no TF/Keras installed)"
   ]
  },
  {
   "cell_type": "code",
   "execution_count": 1,
   "id": "a29f4792",
   "metadata": {
    "scrolled": true
   },
   "outputs": [
    {
     "name": "stderr",
     "output_type": "stream",
     "text": [
      "Status: 100%|██████████| 44.3M/44.3M [00:07<00:00, 5.55MB/s]\n"
     ]
    },
    {
     "name": "stdout",
     "output_type": "stream",
     "text": [
      "Done!\n",
      "\n"
     ]
    }
   ],
   "source": [
    "from spinalcordtoolbox.scripts import sct_download_data\n",
    "\n",
    "sct_download_data.main([\"-d\", \"sct_example_data\", \"-k\"])"
   ]
  },
  {
   "cell_type": "code",
   "execution_count": 14,
   "id": "2bb1952e",
   "metadata": {},
   "outputs": [],
   "source": [
    "import subprocess\n",
    "\n",
    "if (b\"jn/3735-replace-tensorflow-with-onnxruntime\" in \n",
    "    subprocess.run(\"git rev-parse --abbrev-ref HEAD\", capture_output=True).stdout):\n",
    "    suffix = \"onnx\"\n",
    "else:\n",
    "    suffix = \"keras\""
   ]
  },
  {
   "cell_type": "markdown",
   "id": "967272b3",
   "metadata": {},
   "source": [
    "### sct_deepseg_sc models"
   ]
  },
  {
   "cell_type": "code",
   "execution_count": 3,
   "id": "ffdead2b",
   "metadata": {},
   "outputs": [
    {
     "name": "stdout",
     "output_type": "stream",
     "text": [
      "\n",
      "Input parameters:\n",
      "  input file ............c:\\users\\joshua\\repos\\spinalcordtoolbox\\data\\sct_example_data\\dmri\\dmri.nii.gz\n",
      "  bvecs file ............c:\\users\\joshua\\repos\\spinalcordtoolbox\\data\\sct_example_data\\dmri\\bvecs.txt\n",
      "  bvals file ............\n",
      "  average ...............1\n",
      "\n",
      "Copy files into temporary folder...\n",
      "cp c:\\users\\joshua\\repos\\spinalcordtoolbox\\data\\sct_example_data\\dmri\\bvecs.txt C:\\Users\\Joshua\\AppData\\Local\\Temp\\sct-20220321145834.524073-dmri_separate-cmuqub69\\bvecs\n",
      "\n",
      "Get dimensions data...\n",
      ".. 96 x 36 x 15 x 35\n",
      "\n",
      "\n",
      "Identify b=0 and DWI images...\n",
      "  WARNING: bvecs file is 3xn instead of nx3. Consider using sct_dmri_transpose_bvecs.\n",
      "  Transpose bvecs...\n",
      "  Number of b=0: 5 [0, 31, 32, 33, 34]\n",
      "  Number of DWI: 30 [1, 2, 3, 4, 5, 6, 7, 8, 9, 10, 11, 12, 13, 14, 15, 16, 17, 18, 19, 20, 21, 22, 23, 24, 25, 26, 27, 28, 29, 30]\n",
      "\n",
      "Split along T dimension...\n",
      "\n",
      "Merge b=0...\n",
      "\n",
      "Average b=0...\n",
      "\n",
      "Average DWI...\n",
      "\n",
      "Generate output files...\n"
     ]
    },
    {
     "name": "stderr",
     "output_type": "stream",
     "text": [
      "To avoid intensity overflow due to convertion to +uint8+, intensity will be rescaled to the maximum quantization scale\n"
     ]
    },
    {
     "name": "stdout",
     "output_type": "stream",
     "text": [
      "\n",
      "Remove temporary files...\n",
      "rm -rf C:\\Users\\Joshua\\AppData\\Local\\Temp\\sct-20220321145834.524073-dmri_separate-cmuqub69\n",
      "\n",
      "Finished! Elapsed time: 1s\n",
      "rm -rf C:\\Users\\Joshua\\AppData\\Local\\Temp\\sct-20220321145835.438370-cmt8dw_5\n"
     ]
    },
    {
     "name": "stderr",
     "output_type": "stream",
     "text": [
      "Compute shape analysis: 100%|################| 15/15 [00:00<00:00, 286.30iter/s]\n",
      "To avoid intensity overflow due to convertion to +uint8+, intensity will be rescaled to the maximum quantization scale\n"
     ]
    },
    {
     "name": "stdout",
     "output_type": "stream",
     "text": [
      "rm -rf C:\\Users\\Joshua\\AppData\\Local\\Temp\\sct-20220321145835.332108-yua4n3u4\n"
     ]
    },
    {
     "name": "stderr",
     "output_type": "stream",
     "text": [
      "To avoid intensity overflow due to convertion to +uint8+, intensity will be rescaled to the maximum quantization scale\n"
     ]
    },
    {
     "name": "stdout",
     "output_type": "stream",
     "text": [
      "rm -rf C:\\Users\\Joshua\\AppData\\Local\\Temp\\sct-20220321145902.874241-dd8ujo6q\n"
     ]
    },
    {
     "name": "stderr",
     "output_type": "stream",
     "text": [
      "Compute shape analysis: 100%|##############| 175/175 [00:00<00:00, 183.89iter/s]\n",
      "Found isolated voxels on slice 0, Removing them\n"
     ]
    },
    {
     "name": "stdout",
     "output_type": "stream",
     "text": [
      "rm -rf C:\\Users\\Joshua\\AppData\\Local\\Temp\\sct-20220321145836.378817-qcq5i37g\n"
     ]
    },
    {
     "name": "stderr",
     "output_type": "stream",
     "text": [
      "To avoid intensity overflow due to convertion to +uint8+, intensity will be rescaled to the maximum quantization scale\n"
     ]
    },
    {
     "name": "stdout",
     "output_type": "stream",
     "text": [
      "rm -rf C:\\Users\\Joshua\\AppData\\Local\\Temp\\sct-20220321145947.608961-uugvltco\n"
     ]
    },
    {
     "name": "stderr",
     "output_type": "stream",
     "text": [
      "Compute shape analysis: 100%|##############| 196/196 [00:01<00:00, 176.88iter/s]\n"
     ]
    },
    {
     "name": "stdout",
     "output_type": "stream",
     "text": [
      "rm -rf C:\\Users\\Joshua\\AppData\\Local\\Temp\\sct-20220321145921.855755-tkhclfcf\n"
     ]
    },
    {
     "name": "stderr",
     "output_type": "stream",
     "text": [
      "To avoid intensity overflow due to convertion to +uint8+, intensity will be rescaled to the maximum quantization scale\n",
      "To avoid intensity overflow due to convertion to +uint8+, intensity will be rescaled to the maximum quantization scale\n"
     ]
    },
    {
     "name": "stdout",
     "output_type": "stream",
     "text": [
      "rm -rf C:\\Users\\Joshua\\AppData\\Local\\Temp\\sct-20220321150041.918643-pefm80xf\n"
     ]
    },
    {
     "name": "stderr",
     "output_type": "stream",
     "text": [
      "Filling a hole in the segmentation around z_slice #:6\n",
      "Filling a hole in the segmentation around z_slice #:14\n",
      "Filling a hole in the segmentation around z_slice #:17\n",
      "Filling a hole in the segmentation around z_slice #:31\n",
      "Filling a hole in the segmentation around z_slice #:35\n",
      "Filling a hole in the segmentation around z_slice #:39\n",
      "Compute shape analysis:   0%|                         | 0/235 [00:00<?, ?iter/s]WARNING:root:\n",
      "No properties for slice: 6\n",
      "WARNING:root:\n",
      "No properties for slice: 7\n",
      "WARNING:root:\n",
      "No properties for slice: 8\n",
      "WARNING:root:\n",
      "No properties for slice: 9\n",
      "WARNING:root:\n",
      "No properties for slice: 10\n",
      "WARNING:root:\n",
      "No properties for slice: 11\n",
      "WARNING:root:\n",
      "No properties for slice: 15\n",
      "WARNING:root:\n",
      "No properties for slice: 16\n",
      "WARNING:root:\n",
      "No properties for slice: 18\n",
      "WARNING:root:\n",
      "No properties for slice: 19\n",
      "WARNING:root:\n",
      "No properties for slice: 20\n",
      "WARNING:root:\n",
      "No properties for slice: 21\n",
      "WARNING:root:\n",
      "No properties for slice: 22\n",
      "WARNING:root:\n",
      "No properties for slice: 23\n",
      "WARNING:root:\n",
      "No properties for slice: 24\n",
      "WARNING:root:\n",
      "No properties for slice: 25\n",
      "WARNING:root:\n",
      "No properties for slice: 26\n",
      "WARNING:root:\n",
      "No properties for slice: 27\n",
      "WARNING:root:\n",
      "No properties for slice: 32\n",
      "WARNING:root:\n",
      "No properties for slice: 33\n",
      "WARNING:root:\n",
      "No properties for slice: 36\n",
      "WARNING:root:\n",
      "No properties for slice: 40\n",
      "WARNING:root:\n",
      "No properties for slice: 41\n",
      "Compute shape analysis: 100%|##############| 235/235 [00:01<00:00, 234.78iter/s]\n",
      "c:\\users\\joshua\\repos\\spinalcordtoolbox\\venv_sct\\lib\\site-packages\\numpy\\core\\fromnumeric.py:3335: RuntimeWarning: Mean of empty slice.\n",
      "  out=out, **kwargs)\n",
      "c:\\users\\joshua\\repos\\spinalcordtoolbox\\venv_sct\\lib\\site-packages\\numpy\\core\\_methods.py:161: RuntimeWarning: invalid value encountered in double_scalars\n",
      "  ret = ret.dtype.type(ret / rcount)\n"
     ]
    },
    {
     "name": "stdout",
     "output_type": "stream",
     "text": [
      "rm -rf C:\\Users\\Joshua\\AppData\\Local\\Temp\\sct-20220321150033.653294-7ofmttbb\n"
     ]
    },
    {
     "name": "stderr",
     "output_type": "stream",
     "text": [
      "WARNING:spinalcordtoolbox.image:To avoid intensity overflow due to convertion to +uint8+, intensity will be rescaled to the maximum quantization scale\n"
     ]
    },
    {
     "name": "stdout",
     "output_type": "stream",
     "text": [
      "rm -rf C:\\Users\\Joshua\\AppData\\Local\\Temp\\sct-20220321150058.409462-zrrfrfou\n"
     ]
    },
    {
     "name": "stderr",
     "output_type": "stream",
     "text": [
      "Compute shape analysis: 100%|##############| 206/206 [00:00<00:00, 221.08iter/s]\n"
     ]
    },
    {
     "name": "stdout",
     "output_type": "stream",
     "text": [
      "rm -rf C:\\Users\\Joshua\\AppData\\Local\\Temp\\sct-20220321150050.320015-ssajy2gw\n"
     ]
    },
    {
     "name": "stderr",
     "output_type": "stream",
     "text": [
      "WARNING:spinalcordtoolbox.image:To avoid intensity overflow due to convertion to +uint8+, intensity will be rescaled to the maximum quantization scale\n",
      "WARNING:spinalcordtoolbox.image:To avoid intensity overflow due to convertion to +uint8+, intensity will be rescaled to the maximum quantization scale\n"
     ]
    },
    {
     "name": "stdout",
     "output_type": "stream",
     "text": [
      "rm -rf C:\\Users\\Joshua\\AppData\\Local\\Temp\\sct-20220321150120.302605-19sg9s2i\n"
     ]
    },
    {
     "name": "stderr",
     "output_type": "stream",
     "text": [
      "WARNING:spinalcordtoolbox.deepseg_sc.postprocessing:Filling a hole in the segmentation around z_slice #:0\n",
      "Compute shape analysis:   0%|                          | 0/27 [00:00<?, ?iter/s]WARNING:root:\n",
      "No properties for slice: 1\n",
      "Compute shape analysis: 100%|################| 27/27 [00:00<00:00, 143.00iter/s]\n"
     ]
    },
    {
     "name": "stdout",
     "output_type": "stream",
     "text": [
      "rm -rf C:\\Users\\Joshua\\AppData\\Local\\Temp\\sct-20220321150118.680486-6iavm3xi\n"
     ]
    },
    {
     "name": "stderr",
     "output_type": "stream",
     "text": [
      "WARNING:spinalcordtoolbox.image:To avoid intensity overflow due to convertion to +uint8+, intensity will be rescaled to the maximum quantization scale\n"
     ]
    },
    {
     "name": "stdout",
     "output_type": "stream",
     "text": [
      "rm -rf C:\\Users\\Joshua\\AppData\\Local\\Temp\\sct-20220321150124.059029-1pijt9oa\n"
     ]
    },
    {
     "name": "stderr",
     "output_type": "stream",
     "text": [
      "Compute shape analysis: 100%|################| 25/25 [00:00<00:00, 134.44iter/s]\n"
     ]
    },
    {
     "name": "stdout",
     "output_type": "stream",
     "text": [
      "rm -rf C:\\Users\\Joshua\\AppData\\Local\\Temp\\sct-20220321150122.405088-48zrwx29\n"
     ]
    },
    {
     "name": "stderr",
     "output_type": "stream",
     "text": [
      "WARNING:spinalcordtoolbox.image:To avoid intensity overflow due to convertion to +uint8+, intensity will be rescaled to the maximum quantization scale\n"
     ]
    }
   ],
   "source": [
    "import os\n",
    "\n",
    "import onnxruntime as ort\n",
    "\n",
    "from spinalcordtoolbox.scripts import sct_deepseg_sc, sct_dmri_separate_b0_and_dwi\n",
    "from spinalcordtoolbox.utils import __data_dir__, sct_dir_local_path\n",
    "from spinalcordtoolbox.image import Image\n",
    "from spinalcordtoolbox.deepseg_sc.core import heatmap\n",
    "from spinalcordtoolbox.resampling import resample_nib\n",
    "\n",
    "for contrast in [\"dwi\", \"t1\", \"t2\", \"t2s\"]:\n",
    "    # 1. Isolate spinal cord segmentation (to evaluate 2D/3D spinal cord segmentation models)\n",
    "    if contrast is \"dwi\":\n",
    "        # \"dwi\" is done separately because it has some quirks:\n",
    "        #   - no '3d kernel' model\n",
    "        #   - folder name (\"dmri\") is different from contrast name (\"dwi\")\n",
    "        #   - requires preprocessing (4d image -> 3d image)\n",
    "        path_data = os.path.join(__data_dir__, \"sct_example_data\", \"dmri\")\n",
    "        sct_dmri_separate_b0_and_dwi.main([\"-i\", os.path.join(path_data, \"dmri.nii.gz\"),\n",
    "                                           \"-bvec\", os.path.join(path_data, \"bvecs.txt\"),\n",
    "                                           \"-ofolder\", path_data])\n",
    "        path_in = os.path.join(path_data, \"dmri_dwi_mean.nii.gz\")\n",
    "        path_out = os.path.join(path_data, f\"{contrast}_seg_2d_{suffix}.nii.gz\")\n",
    "        sct_deepseg_sc.main([\"-i\", path_in, \"-c\", contrast, \"-kernel\", \"2d\", \n",
    "                             \"-centerline\", \"cnn\", \"-ofolder\", path_data, \"-o\", path_out])\n",
    "    else:\n",
    "        path_data = os.path.join(__data_dir__, \"sct_example_data\", contrast)\n",
    "        path_in = os.path.join(path_data, f\"{contrast}.nii.gz\")\n",
    "        for kernel_type in [\"2d\", \"3d\"]:\n",
    "            path_out = os.path.join(path_data, f\"{contrast}_seg_{kernel_type}_{suffix}.nii.gz\")\n",
    "            sct_deepseg_sc.main([\"-i\", path_in, \"-c\", contrast, \"-kernel\", kernel_type, \n",
    "                                 \"-centerline\", \"cnn\", \"-ofolder\", path_data, \"-o\", path_out])\n",
    "    \n",
    "    # 2. Isolating centerline heatmaps (to evaluate centerline detection models)\n",
    "    # This section involves some copying and pasting in order to access im_heatmap directly\n",
    "    im = Image(path_in)\n",
    "    im_res = resample_nib(im, new_size=[0.5, 0.5, im.dim[6]], new_size_type='mm', interpolation='linear')\n",
    "    ctr_model_fname = sct_dir_local_path('data', 'deepseg_sc_models', '{}_ctr.onnx'.format(contrast))\n",
    "    ort_sess = ort.InferenceSession(ctr_model_fname)\n",
    "    dct_patch_ctr = {'t2': {'size': (80, 80), 'mean': 51.1417, 'std': 57.4408},\n",
    "                     't2s': {'size': (80, 80), 'mean': 68.8591, 'std': 71.4659},\n",
    "                     't1': {'size': (80, 80), 'mean': 55.7359, 'std': 64.3149},\n",
    "                     'dwi': {'size': (80, 80), 'mean': 55.744, 'std': 45.003}}\n",
    "    im_heatmap, z_max = heatmap(im=im_res,\n",
    "                                contrast_type=contrast,\n",
    "                                model=ort_sess,\n",
    "                                patch_shape=dct_patch_ctr[contrast]['size'],\n",
    "                                mean_train=dct_patch_ctr[contrast]['mean'],\n",
    "                                std_train=dct_patch_ctr[contrast]['std'])\n",
    "    im_heatmap.save(os.path.join(path_data, f\"{contrast}_ctr_heatmap_{suffix}.nii.gz\"))"
   ]
  },
  {
   "cell_type": "markdown",
   "id": "80e856a2",
   "metadata": {},
   "source": [
    "### sct_deepseg_gm models"
   ]
  },
  {
   "cell_type": "code",
   "execution_count": 4,
   "id": "193e1891",
   "metadata": {},
   "outputs": [],
   "source": [
    "import os\n",
    "\n",
    "from spinalcordtoolbox.scripts import sct_deepseg_gm\n",
    "\n",
    "for contrast in [\"t2s\"]:\n",
    "    for model in [\"large\", \"challenge\"]:\n",
    "        path_data = os.path.join(__data_dir__, \"sct_example_data\", contrast)\n",
    "        path_in = os.path.join(path_data, f\"{contrast}.nii.gz\")\n",
    "        path_out = os.path.join(path_data, f\"{contrast}_seg_gm_{model}_{suffix}.nii.gz\")\n",
    "        sct_deepseg_gm.main(['-i', path_in, '-m', model, '-o', path_out])"
   ]
  },
  {
   "cell_type": "markdown",
   "id": "d3dd40f7",
   "metadata": {},
   "source": [
    "### sct_deepseg_lesion models"
   ]
  },
  {
   "cell_type": "code",
   "execution_count": 6,
   "id": "b6d94d39",
   "metadata": {},
   "outputs": [
    {
     "name": "stderr",
     "output_type": "stream",
     "text": [
      "WARNING:spinalcordtoolbox.image:File c:\\users\\joshua\\repos\\spinalcordtoolbox\\data\\sct_example_data\\t2\\t2_lesion.nii.gz already exists. Will overwrite it.\n",
      "WARNING:spinalcordtoolbox.image:File c:\\users\\joshua\\repos\\spinalcordtoolbox\\data\\sct_example_data\\t2\\t2_seg_lesion_onnx.nii.gz already exists. Will overwrite it.\n"
     ]
    }
   ],
   "source": [
    "import os\n",
    "\n",
    "import numpy as np\n",
    "import nibabel as nib\n",
    "\n",
    "from spinalcordtoolbox.scripts import sct_deepseg_lesion\n",
    "from spinalcordtoolbox.deepseg_lesion.core import segment_3d\n",
    "from spinalcordtoolbox.utils import __sct_dir__\n",
    "\n",
    "for contrast in [\"t2\", \"t2_ax\", \"t2s\"]:\n",
    "    if contrast.startswith(\"t2s\"):\n",
    "        path_data = os.path.join(__data_dir__, \"sct_example_data\", \"t2s\")\n",
    "    else:\n",
    "        path_data = os.path.join(__data_dir__, \"sct_example_data\", \"t2\")\n",
    "    path_in = os.path.join(path_data, f\"{contrast}_lesion.nii.gz\")\n",
    "    path_out = os.path.join(path_data, f\"{contrast}_seg_lesion_{suffix}.nii.gz\")\n",
    "    \n",
    "    # create fake lesion data\n",
    "    data = np.zeros((48, 48, 96))\n",
    "    xx, yy = np.mgrid[:48, :48]\n",
    "    circle = (xx - 24) ** 2 + (yy - 24) ** 2\n",
    "    for zz in range(data.shape[2]):\n",
    "        data[:,:,zz] += np.logical_and(circle < 400, circle >= 200) * 2400 # CSF\n",
    "        data[:,:,zz] += (circle < 200) * 500 # SC\n",
    "    data[16:22, 16:22, 64:90] = 1000 # fake lesion\n",
    "    affine = np.eye(4)\n",
    "    nii = nib.nifti1.Nifti1Image(data, affine)\n",
    "    img = Image(data, hdr=nii.header, dim=nii.header.get_data_shape())\n",
    "    img.save(path_in)\n",
    "    \n",
    "    # Segment fake lesion data\n",
    "    model_path = os.path.join(__sct_dir__, 'data', 'deepseg_lesion_models', f'{contrast}_lesion.onnx')\n",
    "    seg = segment_3d(model_path, contrast, img.copy())\n",
    "    seg.save(path_out)\n",
    "    \n",
    "    # NB: We can't compare the output of the the full sct_deepseg_lesion unless we \n",
    "    #     create actually realistic lesion data, as there are additional steps (e.g resampling)\n",
    "    # sct_deepseg_lesion.main([\"-i\", path_in, \"-c\", contrast, \"-ofolder\", path_data])"
   ]
  },
  {
   "cell_type": "markdown",
   "id": "54a910ca",
   "metadata": {},
   "source": [
    "### Comparing Keras-generated files to ONNX-generated files\n",
    "\n",
    "1. Run the above cells on both the `master` branch (with Keras/Tensorflow installed), then copy the files to a safe location.\n",
    "2. Re-install and re-run the notebook on the `jn/3735-replace-tensorflow-with-onnxruntime` branch.\n",
    "3. Copy all of the generated files from both runs so that they exist in the same `data/sct_example_data` folder.\n",
    "4. Finally, change `if False:` to `if True:` and run the cell below to compare the files from both runs."
   ]
  },
  {
   "cell_type": "code",
   "execution_count": 13,
   "id": "6c91d840",
   "metadata": {},
   "outputs": [
    {
     "name": "stdout",
     "output_type": "stream",
     "text": [
      "Checking c:\\users\\joshua\\repos\\spinalcordtoolbox\\data\\sct_example_data\\dmri\\dwi_ctr_heatmap_onnx.nii.gz... True\n",
      "Checking c:\\users\\joshua\\repos\\spinalcordtoolbox\\data\\sct_example_data\\dmri\\dwi_seg_2d_onnx.nii.gz... True\n",
      "Checking c:\\users\\joshua\\repos\\spinalcordtoolbox\\data\\sct_example_data\\t1\\t1_ctr_heatmap_onnx.nii.gz... True\n",
      "Checking c:\\users\\joshua\\repos\\spinalcordtoolbox\\data\\sct_example_data\\t1\\t1_seg_2d_onnx.nii.gz... True\n",
      "Checking c:\\users\\joshua\\repos\\spinalcordtoolbox\\data\\sct_example_data\\t1\\t1_seg_3d_onnx.nii.gz... True\n",
      "Checking c:\\users\\joshua\\repos\\spinalcordtoolbox\\data\\sct_example_data\\t2\\t2_ax_seg_lesion_onnx.nii.gz... True\n",
      "Checking c:\\users\\joshua\\repos\\spinalcordtoolbox\\data\\sct_example_data\\t2\\t2_ctr_heatmap_onnx.nii.gz... True\n",
      "Checking c:\\users\\joshua\\repos\\spinalcordtoolbox\\data\\sct_example_data\\t2\\t2_seg_2d_onnx.nii.gz... True\n",
      "Checking c:\\users\\joshua\\repos\\spinalcordtoolbox\\data\\sct_example_data\\t2\\t2_seg_3d_onnx.nii.gz... True\n",
      "Checking c:\\users\\joshua\\repos\\spinalcordtoolbox\\data\\sct_example_data\\t2\\t2_seg_lesion_onnx.nii.gz... True\n",
      "Checking c:\\users\\joshua\\repos\\spinalcordtoolbox\\data\\sct_example_data\\t2s\\t2s_ctr_heatmap_onnx.nii.gz... True\n",
      "Checking c:\\users\\joshua\\repos\\spinalcordtoolbox\\data\\sct_example_data\\t2s\\t2s_seg_2d_onnx.nii.gz... True\n",
      "Checking c:\\users\\joshua\\repos\\spinalcordtoolbox\\data\\sct_example_data\\t2s\\t2s_seg_3d_onnx.nii.gz... True\n",
      "Checking c:\\users\\joshua\\repos\\spinalcordtoolbox\\data\\sct_example_data\\t2s\\t2s_seg_gm_challenge_onnx.nii.gz... True\n",
      "Checking c:\\users\\joshua\\repos\\spinalcordtoolbox\\data\\sct_example_data\\t2s\\t2s_seg_gm_large_onnx.nii.gz... True\n",
      "Checking c:\\users\\joshua\\repos\\spinalcordtoolbox\\data\\sct_example_data\\t2s\\t2s_seg_lesion_onnx.nii.gz... True\n"
     ]
    }
   ],
   "source": [
    "import os\n",
    "\n",
    "from spinalcordtoolbox.image import Image\n",
    "\n",
    "if False:\n",
    "    path_data = os.path.join(__data_dir__, \"sct_example_data\")\n",
    "    data_files = [os.path.join(dp, f) for dp, dn, filenames in os.walk(path_data) for f in filenames]\n",
    "    for filepath in data_files:\n",
    "        if \"_onnx\" not in filepath:\n",
    "            continue\n",
    "        else:\n",
    "            data_onnx = Image(filepath).data\n",
    "            data_keras = Image(filepath.replace(\"_onnx.nii.gz\", \"_keras.nii.gz\")).data\n",
    "            print(f\"Checking {filepath}... {(data_onnx==data_keras).all()}\")"
   ]
  }
 ],
 "metadata": {
  "kernelspec": {
   "display_name": "Python 3 (ipykernel)",
   "language": "python",
   "name": "python3"
  },
  "language_info": {
   "codemirror_mode": {
    "name": "ipython",
    "version": 3
   },
   "file_extension": ".py",
   "mimetype": "text/x-python",
   "name": "python",
   "nbconvert_exporter": "python",
   "pygments_lexer": "ipython3",
   "version": "3.7.9"
  }
 },
 "nbformat": 4,
 "nbformat_minor": 5
}
